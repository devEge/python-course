{
 "cells": [
  {
   "cell_type": "markdown",
   "id": "0423d46a",
   "metadata": {},
   "source": [
    "## Functions"
   ]
  },
  {
   "cell_type": "code",
   "execution_count": 1,
   "id": "86555916",
   "metadata": {},
   "outputs": [],
   "source": [
    "# method vs function"
   ]
  },
  {
   "cell_type": "code",
   "execution_count": 2,
   "id": "626c4042",
   "metadata": {},
   "outputs": [],
   "source": [
    "my_name = \"mehmet\""
   ]
  },
  {
   "cell_type": "code",
   "execution_count": 3,
   "id": "f6695973",
   "metadata": {},
   "outputs": [
    {
     "data": {
      "text/plain": [
       "'MEHMET'"
      ]
     },
     "execution_count": 3,
     "metadata": {},
     "output_type": "execute_result"
    }
   ],
   "source": [
    "my_name.upper()"
   ]
  },
  {
   "cell_type": "code",
   "execution_count": 4,
   "id": "67f8a043",
   "metadata": {},
   "outputs": [],
   "source": [
    "my_name_upper = my_name.upper()"
   ]
  },
  {
   "cell_type": "code",
   "execution_count": 5,
   "id": "7a622844",
   "metadata": {},
   "outputs": [
    {
     "data": {
      "text/plain": [
       "'MEHMET'"
      ]
     },
     "execution_count": 5,
     "metadata": {},
     "output_type": "execute_result"
    }
   ],
   "source": [
    "my_name_upper"
   ]
  },
  {
   "cell_type": "code",
   "execution_count": 6,
   "id": "2ce1c6d6",
   "metadata": {},
   "outputs": [
    {
     "name": "stdout",
     "output_type": "stream",
     "text": [
      "Help on built-in function upper:\n",
      "\n",
      "upper() method of builtins.str instance\n",
      "    Return a copy of the string converted to uppercase.\n",
      "\n"
     ]
    }
   ],
   "source": [
    "help(my_name.upper)"
   ]
  },
  {
   "cell_type": "code",
   "execution_count": 7,
   "id": "c36d2cf4",
   "metadata": {},
   "outputs": [],
   "source": [
    "# functions"
   ]
  },
  {
   "cell_type": "code",
   "execution_count": 8,
   "id": "0d58f0e8",
   "metadata": {},
   "outputs": [],
   "source": [
    "def helloPython():\n",
    "    print(\"hello\")\n",
    "    print(\"python\")"
   ]
  },
  {
   "cell_type": "code",
   "execution_count": 9,
   "id": "5a6fdfe1",
   "metadata": {},
   "outputs": [
    {
     "data": {
      "text/plain": [
       "<function __main__.helloPython()>"
      ]
     },
     "execution_count": 9,
     "metadata": {},
     "output_type": "execute_result"
    }
   ],
   "source": [
    "helloPython"
   ]
  },
  {
   "cell_type": "code",
   "execution_count": 10,
   "id": "ecfd38d0",
   "metadata": {},
   "outputs": [
    {
     "name": "stdout",
     "output_type": "stream",
     "text": [
      "hello\n",
      "python\n"
     ]
    }
   ],
   "source": [
    "helloPython()"
   ]
  },
  {
   "cell_type": "code",
   "execution_count": 11,
   "id": "e8469ff3",
   "metadata": {},
   "outputs": [
    {
     "name": "stdout",
     "output_type": "stream",
     "text": [
      "hello\n",
      "python\n"
     ]
    }
   ],
   "source": [
    "helloPython()"
   ]
  },
  {
   "cell_type": "code",
   "execution_count": 12,
   "id": "137f19f7",
   "metadata": {},
   "outputs": [],
   "source": [
    "# input"
   ]
  },
  {
   "cell_type": "code",
   "execution_count": 13,
   "id": "2586d954",
   "metadata": {},
   "outputs": [],
   "source": [
    "def hello_name(name):\n",
    "    print(f\"hello {name}\")"
   ]
  },
  {
   "cell_type": "code",
   "execution_count": 14,
   "id": "a518606e",
   "metadata": {},
   "outputs": [
    {
     "name": "stdout",
     "output_type": "stream",
     "text": [
      "hello Mehmet\n"
     ]
    }
   ],
   "source": [
    "hello_name(\"Mehmet\")"
   ]
  },
  {
   "cell_type": "code",
   "execution_count": 15,
   "id": "7976597d",
   "metadata": {},
   "outputs": [
    {
     "name": "stdout",
     "output_type": "stream",
     "text": [
      "hello Ege\n"
     ]
    }
   ],
   "source": [
    "hello_name(\"Ege\")"
   ]
  },
  {
   "cell_type": "code",
   "execution_count": 16,
   "id": "e2746f47",
   "metadata": {},
   "outputs": [
    {
     "name": "stdout",
     "output_type": "stream",
     "text": [
      "hello Mehmet Ege\n"
     ]
    }
   ],
   "source": [
    "hello_name(\"Mehmet Ege\")"
   ]
  },
  {
   "cell_type": "code",
   "execution_count": 17,
   "id": "2538fa2b",
   "metadata": {},
   "outputs": [],
   "source": [
    "def sum_example(num1, num2):\n",
    "    print(num1+num2)"
   ]
  },
  {
   "cell_type": "code",
   "execution_count": 18,
   "id": "05bdccb5",
   "metadata": {},
   "outputs": [
    {
     "name": "stdout",
     "output_type": "stream",
     "text": [
      "15\n"
     ]
    }
   ],
   "source": [
    "sum_example(5,10)"
   ]
  },
  {
   "cell_type": "code",
   "execution_count": 19,
   "id": "ccb7663f",
   "metadata": {},
   "outputs": [
    {
     "name": "stdout",
     "output_type": "stream",
     "text": [
      "32\n"
     ]
    }
   ],
   "source": [
    "sum_example(20,12)"
   ]
  },
  {
   "cell_type": "code",
   "execution_count": 20,
   "id": "12d3c6da",
   "metadata": {},
   "outputs": [],
   "source": [
    "def hello_surname(surname=\"Aydın\"):\n",
    "    print(f\"Hello {surname}\")"
   ]
  },
  {
   "cell_type": "code",
   "execution_count": 21,
   "id": "6930f21a",
   "metadata": {},
   "outputs": [
    {
     "name": "stdout",
     "output_type": "stream",
     "text": [
      "Hello Aydın\n"
     ]
    }
   ],
   "source": [
    "hello_surname()"
   ]
  },
  {
   "cell_type": "code",
   "execution_count": 22,
   "id": "9de3d5c8",
   "metadata": {},
   "outputs": [
    {
     "name": "stdout",
     "output_type": "stream",
     "text": [
      "Hello Yuvarlak\n"
     ]
    }
   ],
   "source": [
    "hello_surname(\"Yuvarlak\")"
   ]
  },
  {
   "cell_type": "code",
   "execution_count": 23,
   "id": "dd4d1234",
   "metadata": {},
   "outputs": [],
   "source": [
    "# return"
   ]
  },
  {
   "cell_type": "code",
   "execution_count": 24,
   "id": "4737f2b0",
   "metadata": {},
   "outputs": [],
   "source": [
    "def summation(num1,num2,num3):\n",
    "    print(num1+num2+num3)"
   ]
  },
  {
   "cell_type": "code",
   "execution_count": 25,
   "id": "b7096795",
   "metadata": {},
   "outputs": [
    {
     "name": "stdout",
     "output_type": "stream",
     "text": [
      "20\n"
     ]
    }
   ],
   "source": [
    "x = summation(10,2,8)"
   ]
  },
  {
   "cell_type": "code",
   "execution_count": 26,
   "id": "d47120bb",
   "metadata": {},
   "outputs": [
    {
     "data": {
      "text/plain": [
       "NoneType"
      ]
     },
     "execution_count": 26,
     "metadata": {},
     "output_type": "execute_result"
    }
   ],
   "source": [
    "type(x)"
   ]
  },
  {
   "cell_type": "code",
   "execution_count": 27,
   "id": "8b4e309b",
   "metadata": {},
   "outputs": [],
   "source": [
    "def return_summation(num1,num2,num3):\n",
    "    return num1+num2+num3"
   ]
  },
  {
   "cell_type": "code",
   "execution_count": 28,
   "id": "ace0e4e5",
   "metadata": {},
   "outputs": [],
   "source": [
    "x = return_summation(10,2,8)"
   ]
  },
  {
   "cell_type": "code",
   "execution_count": 29,
   "id": "0cf780e8",
   "metadata": {},
   "outputs": [
    {
     "data": {
      "text/plain": [
       "20"
      ]
     },
     "execution_count": 29,
     "metadata": {},
     "output_type": "execute_result"
    }
   ],
   "source": [
    "x"
   ]
  },
  {
   "cell_type": "code",
   "execution_count": 30,
   "id": "5b791ad8",
   "metadata": {},
   "outputs": [
    {
     "data": {
      "text/plain": [
       "int"
      ]
     },
     "execution_count": 30,
     "metadata": {},
     "output_type": "execute_result"
    }
   ],
   "source": [
    "type(x)"
   ]
  },
  {
   "cell_type": "code",
   "execution_count": 31,
   "id": "8edb0bc6",
   "metadata": {},
   "outputs": [],
   "source": [
    "def control_string(s):\n",
    "    if s[0] == \"a\":\n",
    "        print(\"a\")"
   ]
  },
  {
   "cell_type": "code",
   "execution_count": 32,
   "id": "b7fec2e1",
   "metadata": {},
   "outputs": [
    {
     "name": "stdout",
     "output_type": "stream",
     "text": [
      "a\n"
     ]
    }
   ],
   "source": [
    "control_string(\"atlas\")"
   ]
  },
  {
   "cell_type": "code",
   "execution_count": 33,
   "id": "5cfa83cc",
   "metadata": {},
   "outputs": [],
   "source": [
    "control_string(\"james\")"
   ]
  },
  {
   "cell_type": "code",
   "execution_count": 34,
   "id": "60fc6e58",
   "metadata": {},
   "outputs": [],
   "source": [
    "#args, kwargs (arguments, key word arguments)"
   ]
  },
  {
   "cell_type": "code",
   "execution_count": 35,
   "id": "714a1ae9",
   "metadata": {},
   "outputs": [],
   "source": [
    "def args_sum(*args):\n",
    "    return sum(args)"
   ]
  },
  {
   "cell_type": "code",
   "execution_count": 36,
   "id": "1cc24564",
   "metadata": {},
   "outputs": [
    {
     "data": {
      "text/plain": [
       "210"
      ]
     },
     "execution_count": 36,
     "metadata": {},
     "output_type": "execute_result"
    }
   ],
   "source": [
    "args_sum(10,20,30,40,50,60)"
   ]
  },
  {
   "cell_type": "code",
   "execution_count": 37,
   "id": "47221900",
   "metadata": {},
   "outputs": [],
   "source": [
    "def args_example(*args):\n",
    "    print(args)"
   ]
  },
  {
   "cell_type": "code",
   "execution_count": 38,
   "id": "98991bb6",
   "metadata": {},
   "outputs": [
    {
     "name": "stdout",
     "output_type": "stream",
     "text": [
      "(123, 1203124, 343, 846, 21)\n"
     ]
    }
   ],
   "source": [
    "args_example(123,1203124,343,846,21)"
   ]
  },
  {
   "cell_type": "code",
   "execution_count": 39,
   "id": "eb34360a",
   "metadata": {},
   "outputs": [],
   "source": [
    "def kwargs_example(**kwargs):\n",
    "    print(kwargs)"
   ]
  },
  {
   "cell_type": "code",
   "execution_count": 40,
   "id": "9ea59777",
   "metadata": {},
   "outputs": [
    {
     "name": "stdout",
     "output_type": "stream",
     "text": [
      "{'apple': 100, 'banana': 150, 'melon': 200}\n"
     ]
    }
   ],
   "source": [
    "kwargs_example(apple=100,banana=150, melon=200)"
   ]
  },
  {
   "cell_type": "code",
   "execution_count": 41,
   "id": "afa23d35",
   "metadata": {},
   "outputs": [],
   "source": [
    "def kwargs_example_2(**kwargs):\n",
    "    if \"apple\" in kwargs:\n",
    "        print(\"applleee\")\n",
    "    else:\n",
    "        print(\":(\")"
   ]
  },
  {
   "cell_type": "code",
   "execution_count": 42,
   "id": "f06f4647",
   "metadata": {},
   "outputs": [
    {
     "name": "stdout",
     "output_type": "stream",
     "text": [
      "applleee\n"
     ]
    }
   ],
   "source": [
    "kwargs_example_2(apple=10,banana=15, melon=20)"
   ]
  },
  {
   "cell_type": "code",
   "execution_count": 43,
   "id": "fa640c46",
   "metadata": {},
   "outputs": [
    {
     "name": "stdout",
     "output_type": "stream",
     "text": [
      ":(\n"
     ]
    }
   ],
   "source": [
    "kwargs_example_2(banana=15, melon=20)"
   ]
  },
  {
   "cell_type": "code",
   "execution_count": null,
   "id": "ed8be06d",
   "metadata": {},
   "outputs": [],
   "source": []
  }
 ],
 "metadata": {
  "kernelspec": {
   "display_name": "Python 3 (ipykernel)",
   "language": "python",
   "name": "python3"
  },
  "language_info": {
   "codemirror_mode": {
    "name": "ipython",
    "version": 3
   },
   "file_extension": ".py",
   "mimetype": "text/x-python",
   "name": "python",
   "nbconvert_exporter": "python",
   "pygments_lexer": "ipython3",
   "version": "3.11.5"
  }
 },
 "nbformat": 4,
 "nbformat_minor": 5
}
