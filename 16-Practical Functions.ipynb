{
 "cells": [
  {
   "cell_type": "code",
   "execution_count": 1,
   "id": "ef4185c8",
   "metadata": {},
   "outputs": [],
   "source": [
    "def divideNumber(number):\n",
    "    return number / 2"
   ]
  },
  {
   "cell_type": "code",
   "execution_count": 2,
   "id": "0cf5afa5",
   "metadata": {},
   "outputs": [
    {
     "data": {
      "text/plain": [
       "10.0"
      ]
     },
     "execution_count": 2,
     "metadata": {},
     "output_type": "execute_result"
    }
   ],
   "source": [
    "divideNumber(20)"
   ]
  },
  {
   "cell_type": "code",
   "execution_count": 3,
   "id": "52e16960",
   "metadata": {},
   "outputs": [],
   "source": [
    "myList = [3,5,7,10,20,30]"
   ]
  },
  {
   "cell_type": "code",
   "execution_count": 4,
   "id": "98e2f0e5",
   "metadata": {},
   "outputs": [],
   "source": [
    "myResultList = []"
   ]
  },
  {
   "cell_type": "code",
   "execution_count": 5,
   "id": "aea363e4",
   "metadata": {},
   "outputs": [],
   "source": [
    "myResultList = [divideNumber(num) for num in myList]"
   ]
  },
  {
   "cell_type": "code",
   "execution_count": 6,
   "id": "2a3b3b57",
   "metadata": {},
   "outputs": [
    {
     "data": {
      "text/plain": [
       "[1.5, 2.5, 3.5, 5.0, 10.0, 15.0]"
      ]
     },
     "execution_count": 6,
     "metadata": {},
     "output_type": "execute_result"
    }
   ],
   "source": [
    "myResultList"
   ]
  },
  {
   "cell_type": "markdown",
   "id": "678acb57",
   "metadata": {},
   "source": [
    "## map"
   ]
  },
  {
   "cell_type": "code",
   "execution_count": 7,
   "id": "7eeec945",
   "metadata": {},
   "outputs": [
    {
     "name": "stdout",
     "output_type": "stream",
     "text": [
      "Help on class map in module builtins:\n",
      "\n",
      "class map(object)\n",
      " |  map(func, *iterables) --> map object\n",
      " |  \n",
      " |  Make an iterator that computes the function using arguments from\n",
      " |  each of the iterables.  Stops when the shortest iterable is exhausted.\n",
      " |  \n",
      " |  Methods defined here:\n",
      " |  \n",
      " |  __getattribute__(self, name, /)\n",
      " |      Return getattr(self, name).\n",
      " |  \n",
      " |  __iter__(self, /)\n",
      " |      Implement iter(self).\n",
      " |  \n",
      " |  __next__(self, /)\n",
      " |      Implement next(self).\n",
      " |  \n",
      " |  __reduce__(...)\n",
      " |      Return state information for pickling.\n",
      " |  \n",
      " |  ----------------------------------------------------------------------\n",
      " |  Static methods defined here:\n",
      " |  \n",
      " |  __new__(*args, **kwargs) from builtins.type\n",
      " |      Create and return a new object.  See help(type) for accurate signature.\n",
      "\n"
     ]
    }
   ],
   "source": [
    "help(map)"
   ]
  },
  {
   "cell_type": "code",
   "execution_count": 8,
   "id": "c92565d8",
   "metadata": {},
   "outputs": [],
   "source": [
    "myResultSeconList = list(map(divideNumber, myList))"
   ]
  },
  {
   "cell_type": "code",
   "execution_count": 9,
   "id": "7093d165",
   "metadata": {},
   "outputs": [
    {
     "data": {
      "text/plain": [
       "[1.5, 2.5, 3.5, 5.0, 10.0, 15.0]"
      ]
     },
     "execution_count": 9,
     "metadata": {},
     "output_type": "execute_result"
    }
   ],
   "source": [
    "myResultSeconList"
   ]
  },
  {
   "cell_type": "code",
   "execution_count": 10,
   "id": "9514d5e5",
   "metadata": {},
   "outputs": [],
   "source": [
    "def controlString(string):\n",
    "    return \"mehmet\" in string"
   ]
  },
  {
   "cell_type": "code",
   "execution_count": 11,
   "id": "a0373d86",
   "metadata": {},
   "outputs": [
    {
     "data": {
      "text/plain": [
       "True"
      ]
     },
     "execution_count": 11,
     "metadata": {},
     "output_type": "execute_result"
    }
   ],
   "source": [
    "controlString(\"mehmet ege\")"
   ]
  },
  {
   "cell_type": "code",
   "execution_count": 12,
   "id": "acd850ce",
   "metadata": {},
   "outputs": [
    {
     "data": {
      "text/plain": [
       "False"
      ]
     },
     "execution_count": 12,
     "metadata": {},
     "output_type": "execute_result"
    }
   ],
   "source": [
    "controlString(\"ege\")"
   ]
  },
  {
   "cell_type": "code",
   "execution_count": 13,
   "id": "2c0acebe",
   "metadata": {},
   "outputs": [],
   "source": [
    "myStringList = [\"mehmet\", \"mehmet ege\", \"aydın\", \"hikmet\"]"
   ]
  },
  {
   "cell_type": "code",
   "execution_count": 14,
   "id": "f204cab1",
   "metadata": {},
   "outputs": [
    {
     "data": {
      "text/plain": [
       "[True, True, False, False]"
      ]
     },
     "execution_count": 14,
     "metadata": {},
     "output_type": "execute_result"
    }
   ],
   "source": [
    "list(map(controlString, myStringList))"
   ]
  },
  {
   "cell_type": "markdown",
   "id": "18676b12",
   "metadata": {},
   "source": [
    "## filter"
   ]
  },
  {
   "cell_type": "code",
   "execution_count": 15,
   "id": "a1baae21",
   "metadata": {},
   "outputs": [
    {
     "data": {
      "text/plain": [
       "['mehmet', 'mehmet ege']"
      ]
     },
     "execution_count": 15,
     "metadata": {},
     "output_type": "execute_result"
    }
   ],
   "source": [
    "list(filter(controlString, myStringList))"
   ]
  },
  {
   "cell_type": "markdown",
   "id": "9d2ac171",
   "metadata": {},
   "source": [
    "## lambda"
   ]
  },
  {
   "cell_type": "code",
   "execution_count": 16,
   "id": "f2d176dd",
   "metadata": {},
   "outputs": [],
   "source": [
    "multiplyLambda = lambda num: num*3"
   ]
  },
  {
   "cell_type": "code",
   "execution_count": 17,
   "id": "f41d0552",
   "metadata": {},
   "outputs": [
    {
     "data": {
      "text/plain": [
       "function"
      ]
     },
     "execution_count": 17,
     "metadata": {},
     "output_type": "execute_result"
    }
   ],
   "source": [
    "type(multiplyLambda)"
   ]
  },
  {
   "cell_type": "code",
   "execution_count": 18,
   "id": "ac2a21e7",
   "metadata": {},
   "outputs": [
    {
     "data": {
      "text/plain": [
       "60"
      ]
     },
     "execution_count": 18,
     "metadata": {},
     "output_type": "execute_result"
    }
   ],
   "source": [
    "multiplyLambda(20)"
   ]
  },
  {
   "cell_type": "code",
   "execution_count": 19,
   "id": "5d975b49",
   "metadata": {},
   "outputs": [],
   "source": [
    "result = multiplyLambda(10)"
   ]
  },
  {
   "cell_type": "code",
   "execution_count": 20,
   "id": "37d0d001",
   "metadata": {},
   "outputs": [],
   "source": [
    "numList = [10,20,30,40,50]"
   ]
  },
  {
   "cell_type": "code",
   "execution_count": 21,
   "id": "8155846d",
   "metadata": {},
   "outputs": [
    {
     "data": {
      "text/plain": [
       "[40, 80, 120, 160, 200]"
      ]
     },
     "execution_count": 21,
     "metadata": {},
     "output_type": "execute_result"
    }
   ],
   "source": [
    "list(map(lambda num:num*4, numList))"
   ]
  },
  {
   "cell_type": "markdown",
   "id": "d37d1e4f",
   "metadata": {},
   "source": [
    "## Scope"
   ]
  },
  {
   "cell_type": "code",
   "execution_count": 22,
   "id": "7c9c5878",
   "metadata": {},
   "outputs": [],
   "source": [
    "x = 20\n",
    "\n",
    "def multiply(num):\n",
    "    x = 5\n",
    "    return num * x"
   ]
  },
  {
   "cell_type": "code",
   "execution_count": 23,
   "id": "6ba00290",
   "metadata": {},
   "outputs": [
    {
     "data": {
      "text/plain": [
       "50"
      ]
     },
     "execution_count": 23,
     "metadata": {},
     "output_type": "execute_result"
    }
   ],
   "source": [
    "multiply(10)"
   ]
  },
  {
   "cell_type": "code",
   "execution_count": 24,
   "id": "1c259c2e",
   "metadata": {},
   "outputs": [
    {
     "data": {
      "text/plain": [
       "100"
      ]
     },
     "execution_count": 24,
     "metadata": {},
     "output_type": "execute_result"
    }
   ],
   "source": [
    "multiply(x)"
   ]
  },
  {
   "cell_type": "code",
   "execution_count": 25,
   "id": "d235c58d",
   "metadata": {},
   "outputs": [
    {
     "name": "stdout",
     "output_type": "stream",
     "text": [
      "20\n"
     ]
    }
   ],
   "source": [
    "print(x)"
   ]
  },
  {
   "cell_type": "code",
   "execution_count": 26,
   "id": "69ebbf10",
   "metadata": {},
   "outputs": [],
   "source": [
    "x = 20\n",
    "\n",
    "def multiply(num):\n",
    "    return num * x"
   ]
  },
  {
   "cell_type": "code",
   "execution_count": 27,
   "id": "ac256e11",
   "metadata": {},
   "outputs": [
    {
     "data": {
      "text/plain": [
       "400"
      ]
     },
     "execution_count": 27,
     "metadata": {},
     "output_type": "execute_result"
    }
   ],
   "source": [
    "multiply(20)"
   ]
  },
  {
   "cell_type": "markdown",
   "id": "fd4c233c",
   "metadata": {},
   "source": [
    "## LEGB > L (Local), E (Enclosing), G (Global), B (Built-In)"
   ]
  },
  {
   "cell_type": "code",
   "execution_count": 28,
   "id": "fbe020c8",
   "metadata": {},
   "outputs": [],
   "source": [
    "# global\n",
    "myString = \"Mehmet\"\n",
    "\n",
    "def myFunction():\n",
    "    # enclosing\n",
    "    myString = \"Mehmet 2\"\n",
    "    \n",
    "    def myFunction2():\n",
    "        # local\n",
    "        myString = \"Mehmet 3\"\n",
    "        print(myString)\n",
    "    myFunction2()"
   ]
  },
  {
   "cell_type": "code",
   "execution_count": 29,
   "id": "987d11ad",
   "metadata": {},
   "outputs": [
    {
     "data": {
      "text/plain": [
       "'Mehmet'"
      ]
     },
     "execution_count": 29,
     "metadata": {},
     "output_type": "execute_result"
    }
   ],
   "source": [
    "myString"
   ]
  },
  {
   "cell_type": "code",
   "execution_count": 30,
   "id": "f90348e8",
   "metadata": {},
   "outputs": [
    {
     "name": "stdout",
     "output_type": "stream",
     "text": [
      "Mehmet 3\n"
     ]
    }
   ],
   "source": [
    "myFunction()"
   ]
  },
  {
   "cell_type": "code",
   "execution_count": 31,
   "id": "4f4bc209",
   "metadata": {},
   "outputs": [],
   "source": [
    "# global\n",
    "myString = \"Mehmet\"\n",
    "\n",
    "def myFunction():\n",
    "    # enclosing\n",
    "    myString = \"Mehmet 2\"\n",
    "    \n",
    "    def myFunction2():\n",
    "        print(myString)\n",
    "    myFunction2()"
   ]
  },
  {
   "cell_type": "code",
   "execution_count": 32,
   "id": "6a9d6544",
   "metadata": {},
   "outputs": [
    {
     "name": "stdout",
     "output_type": "stream",
     "text": [
      "Mehmet 2\n"
     ]
    }
   ],
   "source": [
    "myFunction()"
   ]
  },
  {
   "cell_type": "code",
   "execution_count": 33,
   "id": "192fb51d",
   "metadata": {},
   "outputs": [],
   "source": [
    "# global\n",
    "myString = \"Mehmet\"\n",
    "\n",
    "def myFunction():\n",
    "    \n",
    "    def myFunction2():\n",
    "        print(myString)\n",
    "    myFunction2()"
   ]
  },
  {
   "cell_type": "code",
   "execution_count": 34,
   "id": "2c042fcd",
   "metadata": {},
   "outputs": [
    {
     "name": "stdout",
     "output_type": "stream",
     "text": [
      "Mehmet\n"
     ]
    }
   ],
   "source": [
    "myFunction()"
   ]
  },
  {
   "cell_type": "code",
   "execution_count": 35,
   "id": "57e78b63",
   "metadata": {},
   "outputs": [],
   "source": [
    "def test1():\n",
    "    myVariable = 10\n",
    "    print(myVariable * 2)"
   ]
  },
  {
   "cell_type": "code",
   "execution_count": 36,
   "id": "fa45f248",
   "metadata": {},
   "outputs": [],
   "source": [
    "def test2():\n",
    "    print(myVariable * 2)"
   ]
  },
  {
   "cell_type": "code",
   "execution_count": 37,
   "id": "31f90036",
   "metadata": {},
   "outputs": [
    {
     "ename": "NameError",
     "evalue": "name 'myVariable' is not defined",
     "output_type": "error",
     "traceback": [
      "\u001b[1;31m---------------------------------------------------------------------------\u001b[0m",
      "\u001b[1;31mNameError\u001b[0m                                 Traceback (most recent call last)",
      "Cell \u001b[1;32mIn[37], line 1\u001b[0m\n\u001b[1;32m----> 1\u001b[0m test2()\n",
      "Cell \u001b[1;32mIn[36], line 2\u001b[0m, in \u001b[0;36mtest2\u001b[1;34m()\u001b[0m\n\u001b[0;32m      1\u001b[0m \u001b[38;5;28;01mdef\u001b[39;00m \u001b[38;5;21mtest2\u001b[39m():\n\u001b[1;32m----> 2\u001b[0m     \u001b[38;5;28mprint\u001b[39m(myVariable \u001b[38;5;241m*\u001b[39m \u001b[38;5;241m2\u001b[39m)\n",
      "\u001b[1;31mNameError\u001b[0m: name 'myVariable' is not defined"
     ]
    }
   ],
   "source": [
    "test2()"
   ]
  },
  {
   "cell_type": "code",
   "execution_count": 38,
   "id": "ae3247e1",
   "metadata": {},
   "outputs": [],
   "source": [
    "y = 10\n",
    "def newFunction(y):\n",
    "    print(y)\n",
    "    y = 5\n",
    "    print(y)\n",
    "    return y"
   ]
  },
  {
   "cell_type": "code",
   "execution_count": 39,
   "id": "fe1cfd4d",
   "metadata": {},
   "outputs": [
    {
     "name": "stdout",
     "output_type": "stream",
     "text": [
      "10\n",
      "5\n"
     ]
    },
    {
     "data": {
      "text/plain": [
       "5"
      ]
     },
     "execution_count": 39,
     "metadata": {},
     "output_type": "execute_result"
    }
   ],
   "source": [
    "newFunction(10)"
   ]
  },
  {
   "cell_type": "code",
   "execution_count": 40,
   "id": "59cc73cc",
   "metadata": {},
   "outputs": [
    {
     "data": {
      "text/plain": [
       "10"
      ]
     },
     "execution_count": 40,
     "metadata": {},
     "output_type": "execute_result"
    }
   ],
   "source": [
    "y"
   ]
  },
  {
   "cell_type": "code",
   "execution_count": null,
   "id": "4f7a15c1",
   "metadata": {},
   "outputs": [],
   "source": [
    "y = 10\n",
    "\n",
    "def changeY():\n",
    "    global y\n",
    "    y ="
   ]
  }
 ],
 "metadata": {
  "kernelspec": {
   "display_name": "Python 3 (ipykernel)",
   "language": "python",
   "name": "python3"
  },
  "language_info": {
   "codemirror_mode": {
    "name": "ipython",
    "version": 3
   },
   "file_extension": ".py",
   "mimetype": "text/x-python",
   "name": "python",
   "nbconvert_exporter": "python",
   "pygments_lexer": "ipython3",
   "version": "3.11.5"
  }
 },
 "nbformat": 4,
 "nbformat_minor": 5
}
