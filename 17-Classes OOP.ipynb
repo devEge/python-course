{
 "cells": [
  {
   "cell_type": "code",
   "execution_count": 1,
   "id": "74121285",
   "metadata": {},
   "outputs": [],
   "source": [
    "egeName= \"Ege\""
   ]
  },
  {
   "cell_type": "code",
   "execution_count": 2,
   "id": "dd4ec295",
   "metadata": {},
   "outputs": [],
   "source": [
    "egeAge = 65"
   ]
  },
  {
   "cell_type": "code",
   "execution_count": 3,
   "id": "6bdb9008",
   "metadata": {},
   "outputs": [],
   "source": [
    "egeGender = \"Male\""
   ]
  },
  {
   "cell_type": "code",
   "execution_count": 4,
   "id": "0dd58c1e",
   "metadata": {},
   "outputs": [],
   "source": [
    "class Person():\n",
    "    name = \"\""
   ]
  },
  {
   "cell_type": "code",
   "execution_count": 5,
   "id": "88cfe984",
   "metadata": {},
   "outputs": [],
   "source": [
    "ege = Person()"
   ]
  },
  {
   "cell_type": "code",
   "execution_count": 6,
   "id": "62923d26",
   "metadata": {},
   "outputs": [
    {
     "data": {
      "text/plain": [
       "__main__.Person"
      ]
     },
     "execution_count": 6,
     "metadata": {},
     "output_type": "execute_result"
    }
   ],
   "source": [
    "type(ege)"
   ]
  },
  {
   "cell_type": "code",
   "execution_count": 7,
   "id": "4bab1bd0",
   "metadata": {},
   "outputs": [
    {
     "data": {
      "text/plain": [
       "''"
      ]
     },
     "execution_count": 7,
     "metadata": {},
     "output_type": "execute_result"
    }
   ],
   "source": [
    "ege.name"
   ]
  },
  {
   "cell_type": "code",
   "execution_count": 8,
   "id": "24869a15",
   "metadata": {},
   "outputs": [],
   "source": [
    "class Person():\n",
    "    name = \"\"\n",
    "    age = 0"
   ]
  },
  {
   "cell_type": "code",
   "execution_count": 9,
   "id": "f1d0d50a",
   "metadata": {},
   "outputs": [],
   "source": [
    "ege = Person()"
   ]
  },
  {
   "cell_type": "code",
   "execution_count": 10,
   "id": "8a7ca2e8",
   "metadata": {},
   "outputs": [
    {
     "data": {
      "text/plain": [
       "0"
      ]
     },
     "execution_count": 10,
     "metadata": {},
     "output_type": "execute_result"
    }
   ],
   "source": [
    "ege.age"
   ]
  },
  {
   "cell_type": "code",
   "execution_count": 11,
   "id": "1f570765",
   "metadata": {},
   "outputs": [],
   "source": [
    "ege.age = 35"
   ]
  },
  {
   "cell_type": "code",
   "execution_count": 12,
   "id": "c5f2dcb5",
   "metadata": {},
   "outputs": [
    {
     "data": {
      "text/plain": [
       "35"
      ]
     },
     "execution_count": 12,
     "metadata": {},
     "output_type": "execute_result"
    }
   ],
   "source": [
    "ege.age"
   ]
  },
  {
   "cell_type": "code",
   "execution_count": 13,
   "id": "ebfa5455",
   "metadata": {},
   "outputs": [],
   "source": [
    "ege.name = \"mehmet ege\""
   ]
  },
  {
   "cell_type": "code",
   "execution_count": 14,
   "id": "8457257b",
   "metadata": {},
   "outputs": [
    {
     "data": {
      "text/plain": [
       "'mehmet ege'"
      ]
     },
     "execution_count": 14,
     "metadata": {},
     "output_type": "execute_result"
    }
   ],
   "source": [
    "ege.name"
   ]
  },
  {
   "cell_type": "code",
   "execution_count": 15,
   "id": "8d9a9e55",
   "metadata": {},
   "outputs": [],
   "source": [
    "class Person():\n",
    "    name = \"\"\n",
    "    age = 0\n",
    "    gender = \"\"\n",
    "    \n",
    "    # method, initializer\n",
    "    def __init__(self):\n",
    "        print(\"init executed\")"
   ]
  },
  {
   "cell_type": "code",
   "execution_count": 16,
   "id": "cbfc53ce",
   "metadata": {},
   "outputs": [
    {
     "name": "stdout",
     "output_type": "stream",
     "text": [
      "init executed\n"
     ]
    }
   ],
   "source": [
    "ege = Person()"
   ]
  },
  {
   "cell_type": "code",
   "execution_count": 17,
   "id": "d685ec0d",
   "metadata": {},
   "outputs": [],
   "source": [
    "class Person():\n",
    "    name = \"\"\n",
    "    age = 0\n",
    "    gender = \"\"\n",
    "    \n",
    "    # method, initializer\n",
    "    def __init__(self, name, age, gender):\n",
    "        self.name = name\n",
    "        self.age = age\n",
    "        self.gender = gender"
   ]
  },
  {
   "cell_type": "code",
   "execution_count": 18,
   "id": "7382cd5d",
   "metadata": {},
   "outputs": [],
   "source": [
    "ege = Person(\"Ege\", 19, \"Male\")"
   ]
  },
  {
   "cell_type": "code",
   "execution_count": 19,
   "id": "33f9ca24",
   "metadata": {},
   "outputs": [
    {
     "data": {
      "text/plain": [
       "'Ege'"
      ]
     },
     "execution_count": 19,
     "metadata": {},
     "output_type": "execute_result"
    }
   ],
   "source": [
    "ege.name"
   ]
  },
  {
   "cell_type": "code",
   "execution_count": 20,
   "id": "961a5c4f",
   "metadata": {},
   "outputs": [
    {
     "data": {
      "text/plain": [
       "19"
      ]
     },
     "execution_count": 20,
     "metadata": {},
     "output_type": "execute_result"
    }
   ],
   "source": [
    "ege.age"
   ]
  },
  {
   "cell_type": "code",
   "execution_count": 21,
   "id": "8c555d4a",
   "metadata": {},
   "outputs": [
    {
     "data": {
      "text/plain": [
       "'Male'"
      ]
     },
     "execution_count": 21,
     "metadata": {},
     "output_type": "execute_result"
    }
   ],
   "source": [
    "ege.gender"
   ]
  },
  {
   "cell_type": "code",
   "execution_count": 1,
   "id": "9b14a1d5",
   "metadata": {},
   "outputs": [],
   "source": [
    "class Person():\n",
    "    name = \"\"\n",
    "    age = 0\n",
    "    gender = \"\"\n",
    "    job = \"developer\"\n",
    "    \n",
    "    # method, initializer\n",
    "    def __init__(self, name, age, gender):\n",
    "        self.name = name\n",
    "        self.age = age\n",
    "        self.gender = gender"
   ]
  },
  {
   "cell_type": "code",
   "execution_count": 2,
   "id": "33eea9b7",
   "metadata": {},
   "outputs": [],
   "source": [
    "ege = Person(\"Ege\", 19, \"Male\")"
   ]
  },
  {
   "cell_type": "code",
   "execution_count": 3,
   "id": "6430d906",
   "metadata": {},
   "outputs": [],
   "source": [
    "class Person():\n",
    "    name = \"\"\n",
    "    age = 0\n",
    "    gender = \"\"\n",
    "    job = \"developer\"\n",
    "    \n",
    "    # method, initializer\n",
    "    def __init__(self, name, age, gender):\n",
    "        self.name = name\n",
    "        self.age = age\n",
    "        self.gender = gender"
   ]
  },
  {
   "cell_type": "code",
   "execution_count": 4,
   "id": "cf2b0394",
   "metadata": {},
   "outputs": [],
   "source": [
    "ege = Person(\"Ege\", 19, \"Male\")"
   ]
  },
  {
   "cell_type": "code",
   "execution_count": 5,
   "id": "9245ba39",
   "metadata": {},
   "outputs": [
    {
     "data": {
      "text/plain": [
       "'developer'"
      ]
     },
     "execution_count": 5,
     "metadata": {},
     "output_type": "execute_result"
    }
   ],
   "source": [
    "ege.job"
   ]
  },
  {
   "cell_type": "code",
   "execution_count": 6,
   "id": "1a3f0238",
   "metadata": {},
   "outputs": [],
   "source": [
    "class Dog():\n",
    "    \n",
    "    def __init__(self, age):\n",
    "        self.age = age"
   ]
  },
  {
   "cell_type": "code",
   "execution_count": 7,
   "id": "57748c82",
   "metadata": {},
   "outputs": [],
   "source": [
    "myDog = Dog(3)"
   ]
  },
  {
   "cell_type": "code",
   "execution_count": 8,
   "id": "7e1971a2",
   "metadata": {},
   "outputs": [
    {
     "data": {
      "text/plain": [
       "3"
      ]
     },
     "execution_count": 8,
     "metadata": {},
     "output_type": "execute_result"
    }
   ],
   "source": [
    "myDog.age"
   ]
  },
  {
   "cell_type": "code",
   "execution_count": 9,
   "id": "8a0d5ebd",
   "metadata": {},
   "outputs": [],
   "source": [
    "class Dog():\n",
    "    year = 7\n",
    "    \n",
    "    def __init__(self, age):\n",
    "        self.age = age\n",
    "        \n",
    "    def humanAge(self):\n",
    "        return self.age * self.year"
   ]
  },
  {
   "cell_type": "code",
   "execution_count": 10,
   "id": "fc8a00ce",
   "metadata": {},
   "outputs": [],
   "source": [
    "myDog = Dog(3)"
   ]
  },
  {
   "cell_type": "code",
   "execution_count": 11,
   "id": "fe449734",
   "metadata": {},
   "outputs": [
    {
     "data": {
      "text/plain": [
       "<bound method Dog.humanAge of <__main__.Dog object at 0x000002673EB26C90>>"
      ]
     },
     "execution_count": 11,
     "metadata": {},
     "output_type": "execute_result"
    }
   ],
   "source": [
    "myDog.humanAge"
   ]
  },
  {
   "cell_type": "code",
   "execution_count": 12,
   "id": "a8426109",
   "metadata": {},
   "outputs": [
    {
     "data": {
      "text/plain": [
       "21"
      ]
     },
     "execution_count": 12,
     "metadata": {},
     "output_type": "execute_result"
    }
   ],
   "source": [
    "myDog.humanAge()"
   ]
  },
  {
   "cell_type": "code",
   "execution_count": 13,
   "id": "1f525b51",
   "metadata": {},
   "outputs": [],
   "source": [
    "class Dog():\n",
    "    year = 7\n",
    "    \n",
    "    def __init__(self, age):\n",
    "        self.age = age\n",
    "        \n",
    "    def humanAge(self):\n",
    "        return self.age * Dog.year # Dog.year -> self. year"
   ]
  },
  {
   "cell_type": "code",
   "execution_count": 14,
   "id": "8b8884f8",
   "metadata": {},
   "outputs": [],
   "source": [
    "class Dog():\n",
    "    year = 7\n",
    "    \n",
    "    def __init__(self, age=5):\n",
    "        self.age = age\n",
    "        self.dogHumanAge = age * self.year"
   ]
  },
  {
   "cell_type": "code",
   "execution_count": 15,
   "id": "f65b769b",
   "metadata": {},
   "outputs": [],
   "source": [
    "myDog = Dog(3)"
   ]
  },
  {
   "cell_type": "code",
   "execution_count": 16,
   "id": "1da98f5a",
   "metadata": {},
   "outputs": [
    {
     "data": {
      "text/plain": [
       "21"
      ]
     },
     "execution_count": 16,
     "metadata": {},
     "output_type": "execute_result"
    }
   ],
   "source": [
    "myDog.dogHumanAge"
   ]
  },
  {
   "cell_type": "code",
   "execution_count": 18,
   "id": "2957d133",
   "metadata": {},
   "outputs": [],
   "source": [
    "class Dog():\n",
    "    year = 7\n",
    "    \n",
    "    def __init__(self, age=5):\n",
    "        self.age = age\n",
    "        self.dogHumanAge = age * self.year"
   ]
  },
  {
   "cell_type": "code",
   "execution_count": 19,
   "id": "bfea2d84",
   "metadata": {},
   "outputs": [],
   "source": [
    "barley = Dog()"
   ]
  },
  {
   "cell_type": "code",
   "execution_count": 20,
   "id": "7a66c691",
   "metadata": {},
   "outputs": [
    {
     "data": {
      "text/plain": [
       "35"
      ]
     },
     "execution_count": 20,
     "metadata": {},
     "output_type": "execute_result"
    }
   ],
   "source": [
    "barley.dogHumanAge"
   ]
  },
  {
   "cell_type": "code",
   "execution_count": null,
   "id": "72281fda",
   "metadata": {},
   "outputs": [],
   "source": []
  }
 ],
 "metadata": {
  "kernelspec": {
   "display_name": "Python 3 (ipykernel)",
   "language": "python",
   "name": "python3"
  },
  "language_info": {
   "codemirror_mode": {
    "name": "ipython",
    "version": 3
   },
   "file_extension": ".py",
   "mimetype": "text/x-python",
   "name": "python",
   "nbconvert_exporter": "python",
   "pygments_lexer": "ipython3",
   "version": "3.11.5"
  }
 },
 "nbformat": 4,
 "nbformat_minor": 5
}
