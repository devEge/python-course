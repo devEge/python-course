{
 "cells": [
  {
   "cell_type": "markdown",
   "id": "726a12a8",
   "metadata": {},
   "source": [
    "## Inheritance"
   ]
  },
  {
   "cell_type": "code",
   "execution_count": 1,
   "id": "ec8180d7",
   "metadata": {},
   "outputs": [],
   "source": [
    "class Musician():\n",
    "    \n",
    "    def __init__(self, name):\n",
    "        self.name = name\n",
    "        print(\"musician class\")\n",
    "    \n",
    "    def test1(self):\n",
    "        print(\"test1\")\n",
    "        \n",
    "    def test2(self):\n",
    "        print(\"test2\")"
   ]
  },
  {
   "cell_type": "code",
   "execution_count": 2,
   "id": "29cced7f",
   "metadata": {},
   "outputs": [
    {
     "name": "stdout",
     "output_type": "stream",
     "text": [
      "musician class\n"
     ]
    }
   ],
   "source": [
    "ege = Musician(\"Ege\")"
   ]
  },
  {
   "cell_type": "code",
   "execution_count": 3,
   "id": "24a4232e",
   "metadata": {},
   "outputs": [
    {
     "name": "stdout",
     "output_type": "stream",
     "text": [
      "test1\n"
     ]
    }
   ],
   "source": [
    "ege.test1()"
   ]
  },
  {
   "cell_type": "code",
   "execution_count": 4,
   "id": "e1cc05b6",
   "metadata": {},
   "outputs": [
    {
     "name": "stdout",
     "output_type": "stream",
     "text": [
      "test2\n"
     ]
    }
   ],
   "source": [
    "ege.test2()"
   ]
  },
  {
   "cell_type": "code",
   "execution_count": 5,
   "id": "11c1d1a8",
   "metadata": {},
   "outputs": [],
   "source": [
    "class MusicianPlus(Musician):\n",
    "    \n",
    "    def __init__(self, name):\n",
    "        Musician.__init__(self, name)\n",
    "        print(\"musician plus\")"
   ]
  },
  {
   "cell_type": "code",
   "execution_count": 6,
   "id": "b598cad1",
   "metadata": {},
   "outputs": [
    {
     "name": "stdout",
     "output_type": "stream",
     "text": [
      "musician class\n",
      "musician plus\n"
     ]
    }
   ],
   "source": [
    "mehmet = MusicianPlus(\"Mehmet\")"
   ]
  },
  {
   "cell_type": "code",
   "execution_count": 7,
   "id": "731efb68",
   "metadata": {},
   "outputs": [
    {
     "name": "stdout",
     "output_type": "stream",
     "text": [
      "test1\n"
     ]
    }
   ],
   "source": [
    "mehmet.test1()"
   ]
  },
  {
   "cell_type": "code",
   "execution_count": 8,
   "id": "f118bf11",
   "metadata": {},
   "outputs": [],
   "source": [
    "class MusicianPlus(Musician):\n",
    "    \n",
    "    def __init__(self, name):\n",
    "        Musician.__init__(self, name)\n",
    "        print(\"musician plus\")\n",
    "    \n",
    "    # override\n",
    "    def test1(self):\n",
    "        print(\"test1 test1 test1\")"
   ]
  },
  {
   "cell_type": "code",
   "execution_count": 9,
   "id": "a1938d61",
   "metadata": {},
   "outputs": [
    {
     "name": "stdout",
     "output_type": "stream",
     "text": [
      "musician class\n",
      "musician plus\n"
     ]
    }
   ],
   "source": [
    "mehmet = MusicianPlus(\"Mehmet\")"
   ]
  },
  {
   "cell_type": "code",
   "execution_count": 10,
   "id": "34a2e1d2",
   "metadata": {},
   "outputs": [
    {
     "name": "stdout",
     "output_type": "stream",
     "text": [
      "test1 test1 test1\n"
     ]
    }
   ],
   "source": [
    "mehmet.test1()"
   ]
  },
  {
   "cell_type": "markdown",
   "id": "c6c5ea42",
   "metadata": {},
   "source": [
    "## Polymorphism"
   ]
  },
  {
   "cell_type": "code",
   "execution_count": 11,
   "id": "762a653e",
   "metadata": {},
   "outputs": [],
   "source": [
    "class Banana():\n",
    "    \n",
    "    def __init__(self,name):\n",
    "        self.name = name\n",
    "        \n",
    "    def info(self):\n",
    "        return f\"100 calories {self.name}\"\n",
    "    \n",
    "class Apple():\n",
    "    \n",
    "    def __init__(self,name):\n",
    "        self.name = name\n",
    "        \n",
    "    def info(self):\n",
    "        return f\"150 calories {self.name}\""
   ]
  },
  {
   "cell_type": "code",
   "execution_count": 12,
   "id": "e494d926",
   "metadata": {},
   "outputs": [],
   "source": [
    "banana = Banana(\"banana\")"
   ]
  },
  {
   "cell_type": "code",
   "execution_count": 13,
   "id": "215e1fec",
   "metadata": {},
   "outputs": [],
   "source": [
    "apple = Apple(\"apple\")"
   ]
  },
  {
   "cell_type": "code",
   "execution_count": 14,
   "id": "d3eca48b",
   "metadata": {},
   "outputs": [
    {
     "data": {
      "text/plain": [
       "'100 calories banana'"
      ]
     },
     "execution_count": 14,
     "metadata": {},
     "output_type": "execute_result"
    }
   ],
   "source": [
    "banana.info()"
   ]
  },
  {
   "cell_type": "code",
   "execution_count": 15,
   "id": "b93c8053",
   "metadata": {},
   "outputs": [
    {
     "data": {
      "text/plain": [
       "'150 calories apple'"
      ]
     },
     "execution_count": 15,
     "metadata": {},
     "output_type": "execute_result"
    }
   ],
   "source": [
    "apple.info()"
   ]
  },
  {
   "cell_type": "code",
   "execution_count": 16,
   "id": "9172a47e",
   "metadata": {},
   "outputs": [],
   "source": [
    "frutList = [banana, apple]"
   ]
  },
  {
   "cell_type": "code",
   "execution_count": 17,
   "id": "5ad2d2aa",
   "metadata": {},
   "outputs": [
    {
     "name": "stdout",
     "output_type": "stream",
     "text": [
      "100 calories banana\n",
      "150 calories apple\n"
     ]
    }
   ],
   "source": [
    "for fruit in frutList:\n",
    "    print(fruit.info())"
   ]
  },
  {
   "cell_type": "markdown",
   "id": "d0795dcf",
   "metadata": {},
   "source": [
    "## Encapsulation"
   ]
  },
  {
   "cell_type": "code",
   "execution_count": 18,
   "id": "a8e4358c",
   "metadata": {},
   "outputs": [],
   "source": [
    "class Phone():\n",
    "    \n",
    "    def __init__(self, name, price):\n",
    "        self.name = name\n",
    "        self.price = price\n",
    "        \n",
    "    def info(self):\n",
    "        print(f\"{self.name} price is: {self.price}\")"
   ]
  },
  {
   "cell_type": "code",
   "execution_count": 19,
   "id": "d2ecbcaa",
   "metadata": {},
   "outputs": [],
   "source": [
    "iphone = Phone(\"Iphone 14\", 500)"
   ]
  },
  {
   "cell_type": "code",
   "execution_count": 20,
   "id": "9e4eb27b",
   "metadata": {},
   "outputs": [
    {
     "name": "stdout",
     "output_type": "stream",
     "text": [
      "Iphone 14 price is: 500\n"
     ]
    }
   ],
   "source": [
    "iphone.info()"
   ]
  },
  {
   "cell_type": "code",
   "execution_count": 21,
   "id": "40562f66",
   "metadata": {},
   "outputs": [],
   "source": [
    "class Phone():\n",
    "    \n",
    "    def __init__(self, name, price):\n",
    "        self.name = name\n",
    "        self.__price = price\n",
    "        \n",
    "    def info(self):\n",
    "        print(f\"{self.name} price is: {self.__price}\")"
   ]
  },
  {
   "cell_type": "code",
   "execution_count": 22,
   "id": "9999dac8",
   "metadata": {},
   "outputs": [],
   "source": [
    "iphone = Phone(\"Iphone 14\", 500)"
   ]
  },
  {
   "cell_type": "code",
   "execution_count": 23,
   "id": "d6b2e29f",
   "metadata": {},
   "outputs": [
    {
     "name": "stdout",
     "output_type": "stream",
     "text": [
      "Iphone 14 price is: 500\n"
     ]
    }
   ],
   "source": [
    "iphone.info()"
   ]
  },
  {
   "cell_type": "code",
   "execution_count": 24,
   "id": "ee3aa778",
   "metadata": {},
   "outputs": [],
   "source": [
    "class Phone():\n",
    "    \n",
    "    def __init__(self, name, price):\n",
    "        self.name = name\n",
    "        self.__price = price\n",
    "        \n",
    "    def info(self):\n",
    "        print(f\"{self.name} price is: {self.__price}\")\n",
    "        \n",
    "    def changePrice(self, price):\n",
    "        self.__price = price"
   ]
  },
  {
   "cell_type": "code",
   "execution_count": 25,
   "id": "ea9c98de",
   "metadata": {},
   "outputs": [],
   "source": [
    "iphone = Phone(\"Iphone 14\", 500)"
   ]
  },
  {
   "cell_type": "code",
   "execution_count": 26,
   "id": "071040eb",
   "metadata": {},
   "outputs": [],
   "source": [
    "iphone.changePrice(400)"
   ]
  },
  {
   "cell_type": "code",
   "execution_count": 27,
   "id": "7eadc9bd",
   "metadata": {},
   "outputs": [
    {
     "name": "stdout",
     "output_type": "stream",
     "text": [
      "Iphone 14 price is: 400\n"
     ]
    }
   ],
   "source": [
    "iphone.info()"
   ]
  },
  {
   "cell_type": "markdown",
   "id": "f68a528f",
   "metadata": {},
   "source": [
    "## Abstraction"
   ]
  },
  {
   "cell_type": "code",
   "execution_count": 28,
   "id": "7829ee87",
   "metadata": {},
   "outputs": [],
   "source": [
    "from abc import ABC, abstractmethod"
   ]
  },
  {
   "cell_type": "code",
   "execution_count": 29,
   "id": "ebbaf1fa",
   "metadata": {},
   "outputs": [],
   "source": [
    "class Car(ABC):\n",
    "    \n",
    "    @abstractmethod\n",
    "    def maxSpeed(self):\n",
    "        pass"
   ]
  },
  {
   "cell_type": "code",
   "execution_count": 30,
   "id": "b5eb6faf",
   "metadata": {},
   "outputs": [],
   "source": [
    "class Tesla(Car):\n",
    "    \n",
    "    def maxSpeed(self):\n",
    "        print(\"200km\")"
   ]
  },
  {
   "cell_type": "code",
   "execution_count": 31,
   "id": "89f7fe0f",
   "metadata": {},
   "outputs": [],
   "source": [
    "tesla = Tesla()"
   ]
  },
  {
   "cell_type": "code",
   "execution_count": 32,
   "id": "260b64d7",
   "metadata": {},
   "outputs": [
    {
     "name": "stdout",
     "output_type": "stream",
     "text": [
      "200km\n"
     ]
    }
   ],
   "source": [
    "tesla.maxSpeed()"
   ]
  },
  {
   "cell_type": "code",
   "execution_count": 33,
   "id": "1de04c65",
   "metadata": {},
   "outputs": [],
   "source": [
    "class Mercedes(Car):\n",
    "    def maxSpeed(self):\n",
    "        print(\"250km\")"
   ]
  },
  {
   "cell_type": "code",
   "execution_count": 34,
   "id": "d18826f3",
   "metadata": {},
   "outputs": [],
   "source": [
    "mercedes = Mercedes()"
   ]
  },
  {
   "cell_type": "code",
   "execution_count": 35,
   "id": "96c093b1",
   "metadata": {},
   "outputs": [
    {
     "name": "stdout",
     "output_type": "stream",
     "text": [
      "250km\n"
     ]
    }
   ],
   "source": [
    "mercedes.maxSpeed()"
   ]
  },
  {
   "cell_type": "code",
   "execution_count": 36,
   "id": "08929edf",
   "metadata": {},
   "outputs": [],
   "source": [
    "class Fruit():\n",
    "    \n",
    "    def __init__(self, name, calories):\n",
    "        self.name = name\n",
    "        self.calories = calories"
   ]
  },
  {
   "cell_type": "code",
   "execution_count": 37,
   "id": "3777d721",
   "metadata": {},
   "outputs": [],
   "source": [
    "myFruit = Fruit(\"banana\", 150)"
   ]
  },
  {
   "cell_type": "code",
   "execution_count": 38,
   "id": "dc34a536",
   "metadata": {},
   "outputs": [
    {
     "data": {
      "text/plain": [
       "150"
      ]
     },
     "execution_count": 38,
     "metadata": {},
     "output_type": "execute_result"
    }
   ],
   "source": [
    "myFruit.calories"
   ]
  },
  {
   "cell_type": "code",
   "execution_count": 39,
   "id": "68718f9b",
   "metadata": {},
   "outputs": [
    {
     "data": {
      "text/plain": [
       "'banana'"
      ]
     },
     "execution_count": 39,
     "metadata": {},
     "output_type": "execute_result"
    }
   ],
   "source": [
    "myFruit.name"
   ]
  },
  {
   "cell_type": "code",
   "execution_count": 40,
   "id": "35bf91c2",
   "metadata": {},
   "outputs": [],
   "source": [
    "class Fruit():\n",
    "    \n",
    "    def __init__(self, name, calories):\n",
    "        self.name = name\n",
    "        self.calories = calories\n",
    "        \n",
    "    # override    \n",
    "    def __str__(self):\n",
    "        return f\"{self.name}: {self.calories} calories\""
   ]
  },
  {
   "cell_type": "code",
   "execution_count": 41,
   "id": "4743fe32",
   "metadata": {},
   "outputs": [],
   "source": [
    "myFruit = Fruit(\"banana\", 150)"
   ]
  },
  {
   "cell_type": "code",
   "execution_count": 42,
   "id": "2ed71e71",
   "metadata": {},
   "outputs": [
    {
     "name": "stdout",
     "output_type": "stream",
     "text": [
      "banana: 150 calories\n"
     ]
    }
   ],
   "source": [
    "print(myFruit)"
   ]
  },
  {
   "cell_type": "code",
   "execution_count": 43,
   "id": "17c169ba",
   "metadata": {},
   "outputs": [],
   "source": [
    "class Fruit():\n",
    "    \n",
    "    def __init__(self, name, calories):\n",
    "        self.name = name\n",
    "        self.calories = calories\n",
    "        \n",
    "    # override    \n",
    "    def __str__(self):\n",
    "        return f\"{self.name}: {self.calories} calories\"\n",
    "    \n",
    "    def __len__(self):\n",
    "        return self.calories"
   ]
  },
  {
   "cell_type": "code",
   "execution_count": 44,
   "id": "e0a14fb9",
   "metadata": {},
   "outputs": [],
   "source": [
    "myFruit = Fruit(\"banana\", 150)"
   ]
  },
  {
   "cell_type": "code",
   "execution_count": 45,
   "id": "8693f31c",
   "metadata": {},
   "outputs": [
    {
     "data": {
      "text/plain": [
       "150"
      ]
     },
     "execution_count": 45,
     "metadata": {},
     "output_type": "execute_result"
    }
   ],
   "source": [
    "len(myFruit)"
   ]
  },
  {
   "cell_type": "code",
   "execution_count": 46,
   "id": "a1f85cc0",
   "metadata": {},
   "outputs": [],
   "source": [
    "class Train():\n",
    "    def __init__(self,name):\n",
    "        self.name = name\n",
    "        \n",
    "    def __getitem__(self,key):\n",
    "        return self.name"
   ]
  },
  {
   "cell_type": "code",
   "execution_count": 47,
   "id": "b8b3f651",
   "metadata": {},
   "outputs": [],
   "source": [
    "myTrain = Train(\"myTrain\")"
   ]
  },
  {
   "cell_type": "code",
   "execution_count": 48,
   "id": "1d481355",
   "metadata": {},
   "outputs": [
    {
     "data": {
      "text/plain": [
       "'myTrain'"
      ]
     },
     "execution_count": 48,
     "metadata": {},
     "output_type": "execute_result"
    }
   ],
   "source": [
    "myTrain[\"a\"]"
   ]
  },
  {
   "cell_type": "code",
   "execution_count": 49,
   "id": "92fb7659",
   "metadata": {},
   "outputs": [],
   "source": [
    "class Train():\n",
    "    def __init__(self,name):\n",
    "        self.name = name\n",
    "        \n",
    "    def __getitem__(self,key):\n",
    "        if key == \"a\":\n",
    "            return \"myTrain\"\n",
    "        else:\n",
    "            return \"not found\""
   ]
  },
  {
   "cell_type": "code",
   "execution_count": 50,
   "id": "9ec8123d",
   "metadata": {},
   "outputs": [],
   "source": [
    "myTrain = Train(\"myTrain\")"
   ]
  },
  {
   "cell_type": "code",
   "execution_count": 51,
   "id": "ac3c918c",
   "metadata": {},
   "outputs": [
    {
     "data": {
      "text/plain": [
       "'myTrain'"
      ]
     },
     "execution_count": 51,
     "metadata": {},
     "output_type": "execute_result"
    }
   ],
   "source": [
    "myTrain[\"a\"]"
   ]
  },
  {
   "cell_type": "code",
   "execution_count": 52,
   "id": "2408a842",
   "metadata": {},
   "outputs": [
    {
     "data": {
      "text/plain": [
       "'not found'"
      ]
     },
     "execution_count": 52,
     "metadata": {},
     "output_type": "execute_result"
    }
   ],
   "source": [
    "myTrain[\"b\"]"
   ]
  },
  {
   "cell_type": "code",
   "execution_count": null,
   "id": "407112cb",
   "metadata": {},
   "outputs": [],
   "source": []
  }
 ],
 "metadata": {
  "kernelspec": {
   "display_name": "Python 3 (ipykernel)",
   "language": "python",
   "name": "python3"
  },
  "language_info": {
   "codemirror_mode": {
    "name": "ipython",
    "version": 3
   },
   "file_extension": ".py",
   "mimetype": "text/x-python",
   "name": "python",
   "nbconvert_exporter": "python",
   "pygments_lexer": "ipython3",
   "version": "3.11.5"
  }
 },
 "nbformat": 4,
 "nbformat_minor": 5
}
