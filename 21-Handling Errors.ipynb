{
 "cells": [
  {
   "cell_type": "code",
   "execution_count": 1,
   "id": "63bd1278",
   "metadata": {},
   "outputs": [
    {
     "name": "stdout",
     "output_type": "stream",
     "text": [
      "enter age: 35\n"
     ]
    }
   ],
   "source": [
    "age = input(\"enter age: \")"
   ]
  },
  {
   "cell_type": "code",
   "execution_count": 2,
   "id": "cf882fab",
   "metadata": {},
   "outputs": [
    {
     "data": {
      "text/plain": [
       "70"
      ]
     },
     "execution_count": 2,
     "metadata": {},
     "output_type": "execute_result"
    }
   ],
   "source": [
    "int(age) * 2"
   ]
  },
  {
   "cell_type": "code",
   "execution_count": 3,
   "id": "eb3900a8",
   "metadata": {},
   "outputs": [],
   "source": [
    "# try - except"
   ]
  },
  {
   "cell_type": "code",
   "execution_count": 4,
   "id": "cf64c449",
   "metadata": {},
   "outputs": [
    {
     "name": "stdout",
     "output_type": "stream",
     "text": [
      "enter age: 35\n",
      "70\n"
     ]
    }
   ],
   "source": [
    "try: \n",
    "    myAge = int(input(\"enter age: \"))\n",
    "    print(myAge * 2)\n",
    "except:\n",
    "    print(\"enter your age!!!!\")"
   ]
  },
  {
   "cell_type": "code",
   "execution_count": 5,
   "id": "2247418d",
   "metadata": {},
   "outputs": [
    {
     "name": "stdout",
     "output_type": "stream",
     "text": [
      "enter age: mehmet\n",
      "enter your age!!!!\n"
     ]
    }
   ],
   "source": [
    "try: \n",
    "    myAge = int(input(\"enter age: \"))\n",
    "    print(myAge * 2)\n",
    "except:\n",
    "    print(\"enter your age!!!!\")"
   ]
  },
  {
   "cell_type": "code",
   "execution_count": 6,
   "id": "cb2be139",
   "metadata": {},
   "outputs": [
    {
     "name": "stdout",
     "output_type": "stream",
     "text": [
      "enter age: mehmet\n",
      "enter your age!!!!\n",
      "enter age: ege\n",
      "enter your age!!!!\n",
      "enter age: 35\n",
      "70\n"
     ]
    }
   ],
   "source": [
    "while True:\n",
    "    try: \n",
    "        myAge = int(input(\"enter age: \"))\n",
    "        print(myAge * 2)\n",
    "        break\n",
    "    except:\n",
    "        print(\"enter your age!!!!\")"
   ]
  },
  {
   "cell_type": "code",
   "execution_count": 7,
   "id": "a642d0e4",
   "metadata": {},
   "outputs": [
    {
     "name": "stdout",
     "output_type": "stream",
     "text": [
      "enter age: mehmet\n",
      "enter your age!!!!\n",
      "finally\n",
      "enter age: 70\n",
      "140\n",
      "finally\n"
     ]
    }
   ],
   "source": [
    "while True:\n",
    "    try: \n",
    "        myAge = int(input(\"enter age: \"))\n",
    "        print(myAge * 2)\n",
    "        break\n",
    "    except:\n",
    "        print(\"enter your age!!!!\")\n",
    "    else: \n",
    "        print(\"else executed\")\n",
    "    finally:\n",
    "        print(\"finally\")"
   ]
  },
  {
   "cell_type": "code",
   "execution_count": 8,
   "id": "e7bd4072",
   "metadata": {},
   "outputs": [
    {
     "name": "stdout",
     "output_type": "stream",
     "text": [
      "enter age: mehmet\n",
      "enter your age!!!!\n",
      "finally\n",
      "enter age: 70\n",
      "140\n",
      "else executed\n",
      "finally\n"
     ]
    }
   ],
   "source": [
    "while True:\n",
    "    try: \n",
    "        myAge = int(input(\"enter age: \"))\n",
    "        print(myAge * 2)\n",
    "    except:\n",
    "        print(\"enter your age!!!!\")\n",
    "    else: \n",
    "        print(\"else executed\")\n",
    "        break\n",
    "    finally:\n",
    "        print(\"finally\")"
   ]
  },
  {
   "cell_type": "code",
   "execution_count": null,
   "id": "4b691190",
   "metadata": {},
   "outputs": [],
   "source": []
  }
 ],
 "metadata": {
  "kernelspec": {
   "display_name": "Python 3 (ipykernel)",
   "language": "python",
   "name": "python3"
  },
  "language_info": {
   "codemirror_mode": {
    "name": "ipython",
    "version": 3
   },
   "file_extension": ".py",
   "mimetype": "text/x-python",
   "name": "python",
   "nbconvert_exporter": "python",
   "pygments_lexer": "ipython3",
   "version": "3.11.5"
  }
 },
 "nbformat": 4,
 "nbformat_minor": 5
}
