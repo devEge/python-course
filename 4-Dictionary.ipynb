{
 "cells": [
  {
   "cell_type": "code",
   "execution_count": 1,
   "id": "0eb6f9c0",
   "metadata": {},
   "outputs": [],
   "source": [
    "# key - value pairing"
   ]
  },
  {
   "cell_type": "code",
   "execution_count": 2,
   "id": "2d392af4",
   "metadata": {},
   "outputs": [],
   "source": [
    "fruit_list = [\"banana\", \"apple\"]"
   ]
  },
  {
   "cell_type": "code",
   "execution_count": 3,
   "id": "5282e84a",
   "metadata": {},
   "outputs": [],
   "source": [
    "calorie_list = [100, 150]"
   ]
  },
  {
   "cell_type": "code",
   "execution_count": 4,
   "id": "80d51e8a",
   "metadata": {},
   "outputs": [
    {
     "data": {
      "text/plain": [
       "'banana'"
      ]
     },
     "execution_count": 4,
     "metadata": {},
     "output_type": "execute_result"
    }
   ],
   "source": [
    "fruit_list[0]"
   ]
  },
  {
   "cell_type": "code",
   "execution_count": 5,
   "id": "4bd605b3",
   "metadata": {},
   "outputs": [
    {
     "data": {
      "text/plain": [
       "100"
      ]
     },
     "execution_count": 5,
     "metadata": {},
     "output_type": "execute_result"
    }
   ],
   "source": [
    "calorie_list[0]"
   ]
  },
  {
   "cell_type": "code",
   "execution_count": 6,
   "id": "5dfb915f",
   "metadata": {},
   "outputs": [],
   "source": [
    "fitness_dictionary = {\"banana\": 100, \"apple\": 150}"
   ]
  },
  {
   "cell_type": "code",
   "execution_count": 7,
   "id": "5b09dbd0",
   "metadata": {},
   "outputs": [
    {
     "data": {
      "text/plain": [
       "dict"
      ]
     },
     "execution_count": 7,
     "metadata": {},
     "output_type": "execute_result"
    }
   ],
   "source": [
    "type(fitness_dictionary)"
   ]
  },
  {
   "cell_type": "code",
   "execution_count": 8,
   "id": "6478f33f",
   "metadata": {},
   "outputs": [
    {
     "data": {
      "text/plain": [
       "100"
      ]
     },
     "execution_count": 8,
     "metadata": {},
     "output_type": "execute_result"
    }
   ],
   "source": [
    "fitness_dictionary[\"banana\"]"
   ]
  },
  {
   "cell_type": "code",
   "execution_count": 9,
   "id": "58581849",
   "metadata": {},
   "outputs": [
    {
     "data": {
      "text/plain": [
       "150"
      ]
     },
     "execution_count": 9,
     "metadata": {},
     "output_type": "execute_result"
    }
   ],
   "source": [
    "fitness_dictionary[\"apple\"]"
   ]
  },
  {
   "cell_type": "code",
   "execution_count": 10,
   "id": "037de18b",
   "metadata": {},
   "outputs": [
    {
     "data": {
      "text/plain": [
       "dict_keys(['banana', 'apple'])"
      ]
     },
     "execution_count": 10,
     "metadata": {},
     "output_type": "execute_result"
    }
   ],
   "source": [
    "fitness_dictionary.keys()"
   ]
  },
  {
   "cell_type": "code",
   "execution_count": 11,
   "id": "2ea16ca6",
   "metadata": {},
   "outputs": [
    {
     "data": {
      "text/plain": [
       "dict_values([100, 150])"
      ]
     },
     "execution_count": 11,
     "metadata": {},
     "output_type": "execute_result"
    }
   ],
   "source": [
    "fitness_dictionary.values()"
   ]
  },
  {
   "cell_type": "code",
   "execution_count": 12,
   "id": "84a74cab",
   "metadata": {},
   "outputs": [
    {
     "data": {
      "text/plain": [
       "dict_values"
      ]
     },
     "execution_count": 12,
     "metadata": {},
     "output_type": "execute_result"
    }
   ],
   "source": [
    "type(fitness_dictionary.values())"
   ]
  },
  {
   "cell_type": "code",
   "execution_count": 13,
   "id": "b311970d",
   "metadata": {},
   "outputs": [
    {
     "data": {
      "text/plain": [
       "[100, 150]"
      ]
     },
     "execution_count": 13,
     "metadata": {},
     "output_type": "execute_result"
    }
   ],
   "source": [
    "list(fitness_dictionary.values())"
   ]
  },
  {
   "cell_type": "code",
   "execution_count": 14,
   "id": "36c757a9",
   "metadata": {},
   "outputs": [],
   "source": [
    "fitness_dictionary[\"banana\"] = 200"
   ]
  },
  {
   "cell_type": "code",
   "execution_count": 15,
   "id": "d23313ac",
   "metadata": {},
   "outputs": [
    {
     "data": {
      "text/plain": [
       "{'banana': 200, 'apple': 150}"
      ]
     },
     "execution_count": 15,
     "metadata": {},
     "output_type": "execute_result"
    }
   ],
   "source": [
    "fitness_dictionary"
   ]
  },
  {
   "cell_type": "code",
   "execution_count": 16,
   "id": "a87b8dd1",
   "metadata": {},
   "outputs": [],
   "source": [
    "fitness_dictionary[\"melon\"] = 300"
   ]
  },
  {
   "cell_type": "code",
   "execution_count": 17,
   "id": "279f6b45",
   "metadata": {},
   "outputs": [
    {
     "data": {
      "text/plain": [
       "{'banana': 200, 'apple': 150, 'melon': 300}"
      ]
     },
     "execution_count": 17,
     "metadata": {},
     "output_type": "execute_result"
    }
   ],
   "source": [
    "fitness_dictionary"
   ]
  },
  {
   "cell_type": "code",
   "execution_count": 18,
   "id": "aca5a947",
   "metadata": {},
   "outputs": [
    {
     "name": "stdout",
     "output_type": "stream",
     "text": [
      "Help on built-in function get:\n",
      "\n",
      "get(key, default=None, /) method of builtins.dict instance\n",
      "    Return the value for key if key is in the dictionary, else default.\n",
      "\n"
     ]
    }
   ],
   "source": [
    "help(fitness_dictionary.get)"
   ]
  },
  {
   "cell_type": "code",
   "execution_count": 19,
   "id": "5bfe379b",
   "metadata": {},
   "outputs": [
    {
     "data": {
      "text/plain": [
       "150"
      ]
     },
     "execution_count": 19,
     "metadata": {},
     "output_type": "execute_result"
    }
   ],
   "source": [
    "fitness_dictionary.get(\"apple\")"
   ]
  },
  {
   "cell_type": "code",
   "execution_count": 20,
   "id": "618aefbc",
   "metadata": {},
   "outputs": [
    {
     "data": {
      "text/plain": [
       "0"
      ]
     },
     "execution_count": 20,
     "metadata": {},
     "output_type": "execute_result"
    }
   ],
   "source": [
    "fitness_dictionary.get(\"appl\", 0)"
   ]
  },
  {
   "cell_type": "code",
   "execution_count": 21,
   "id": "aa975332",
   "metadata": {},
   "outputs": [],
   "source": [
    "my_dictionary = {100: \"a\", 200:\"b\", 300:\"c\"}"
   ]
  },
  {
   "cell_type": "code",
   "execution_count": 22,
   "id": "06498c47",
   "metadata": {},
   "outputs": [
    {
     "data": {
      "text/plain": [
       "'a'"
      ]
     },
     "execution_count": 22,
     "metadata": {},
     "output_type": "execute_result"
    }
   ],
   "source": [
    "my_dictionary[100]"
   ]
  },
  {
   "cell_type": "code",
   "execution_count": 23,
   "id": "ab80108d",
   "metadata": {},
   "outputs": [
    {
     "data": {
      "text/plain": [
       "'b'"
      ]
     },
     "execution_count": 23,
     "metadata": {},
     "output_type": "execute_result"
    }
   ],
   "source": [
    "my_dictionary[200]"
   ]
  },
  {
   "cell_type": "code",
   "execution_count": 24,
   "id": "221d9888",
   "metadata": {},
   "outputs": [],
   "source": [
    "my_mixed_dictionary = {\"key1\":100, \"key2\":3.14, \"key3\": [10, 20, 30]}"
   ]
  },
  {
   "cell_type": "code",
   "execution_count": 25,
   "id": "28e5cf8b",
   "metadata": {},
   "outputs": [
    {
     "data": {
      "text/plain": [
       "[10, 20, 30]"
      ]
     },
     "execution_count": 25,
     "metadata": {},
     "output_type": "execute_result"
    }
   ],
   "source": [
    "my_mixed_dictionary[\"key3\"]"
   ]
  },
  {
   "cell_type": "code",
   "execution_count": 26,
   "id": "bbe3952f",
   "metadata": {},
   "outputs": [
    {
     "data": {
      "text/plain": [
       "20"
      ]
     },
     "execution_count": 26,
     "metadata": {},
     "output_type": "execute_result"
    }
   ],
   "source": [
    "my_mixed_dictionary[\"key3\"][1]"
   ]
  },
  {
   "cell_type": "code",
   "execution_count": 27,
   "id": "b7402da6",
   "metadata": {},
   "outputs": [],
   "source": [
    "last_dictionary = {\"k1\":10, \"k2\":[10,20,30,40,50], \"k3\":\"string\", \"k4\":{\"a\":100, \"b\":200}}"
   ]
  },
  {
   "cell_type": "code",
   "execution_count": 28,
   "id": "03aad61a",
   "metadata": {},
   "outputs": [
    {
     "data": {
      "text/plain": [
       "20"
      ]
     },
     "execution_count": 28,
     "metadata": {},
     "output_type": "execute_result"
    }
   ],
   "source": [
    "last_dictionary[\"k2\"][1]"
   ]
  },
  {
   "cell_type": "code",
   "execution_count": 29,
   "id": "e3854057",
   "metadata": {},
   "outputs": [
    {
     "data": {
      "text/plain": [
       "200"
      ]
     },
     "execution_count": 29,
     "metadata": {},
     "output_type": "execute_result"
    }
   ],
   "source": [
    "last_dictionary[\"k4\"][\"b\"]"
   ]
  },
  {
   "cell_type": "code",
   "execution_count": null,
   "id": "c5410818",
   "metadata": {},
   "outputs": [],
   "source": []
  }
 ],
 "metadata": {
  "kernelspec": {
   "display_name": "Python 3 (ipykernel)",
   "language": "python",
   "name": "python3"
  },
  "language_info": {
   "codemirror_mode": {
    "name": "ipython",
    "version": 3
   },
   "file_extension": ".py",
   "mimetype": "text/x-python",
   "name": "python",
   "nbconvert_exporter": "python",
   "pygments_lexer": "ipython3",
   "version": "3.11.5"
  }
 },
 "nbformat": 4,
 "nbformat_minor": 5
}
